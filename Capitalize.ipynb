{
 "cells": [
  {
   "cell_type": "code",
   "execution_count": 3,
   "id": "5fd82c6a",
   "metadata": {},
   "outputs": [
    {
     "name": "stdout",
     "output_type": "stream",
     "text": [
      "['__add__', '__class__', '__contains__', '__delattr__', '__dir__', '__doc__', '__eq__', '__format__', '__ge__', '__getattribute__', '__getitem__', '__getnewargs__', '__gt__', '__hash__', '__init__', '__init_subclass__', '__iter__', '__le__', '__len__', '__lt__', '__mod__', '__mul__', '__ne__', '__new__', '__reduce__', '__reduce_ex__', '__repr__', '__rmod__', '__rmul__', '__setattr__', '__sizeof__', '__str__', '__subclasshook__', 'capitalize', 'casefold', 'center', 'count', 'encode', 'endswith', 'expandtabs', 'find', 'format', 'format_map', 'index', 'isalnum', 'isalpha', 'isascii', 'isdecimal', 'isdigit', 'isidentifier', 'islower', 'isnumeric', 'isprintable', 'isspace', 'istitle', 'isupper', 'join', 'ljust', 'lower', 'lstrip', 'maketrans', 'partition', 'replace', 'rfind', 'rindex', 'rjust', 'rpartition', 'rsplit', 'rstrip', 'split', 'splitlines', 'startswith', 'strip', 'swapcase', 'title', 'translate', 'upper', 'zfill']\n"
     ]
    }
   ],
   "source": [
    "print(dir(str))"
   ]
  },
  {
   "cell_type": "raw",
   "id": "3eda9dd1",
   "metadata": {},
   "source": [
    "- You are asked to ensure that the first and last names of people begin with a capital letter in their passports. For example, alison heck should be capitalised correctly as Alison Heck."
   ]
  },
  {
   "cell_type": "markdown",
   "id": "a6a4cca3",
   "metadata": {},
   "source": [
    "## Input Format"
   ]
  },
  {
   "cell_type": "raw",
   "id": "1cbcbb9a",
   "metadata": {},
   "source": [
    "- A single line of input containing the full name,s .\n",
    "- The string consists of alphanumeric characters and spaces.\n"
   ]
  },
  {
   "cell_type": "code",
   "execution_count": 8,
   "id": "0bb297d3",
   "metadata": {},
   "outputs": [
    {
     "name": "stdout",
     "output_type": "stream",
     "text": [
      "Chris Alan\n"
     ]
    }
   ],
   "source": [
    "\n",
    "def solve(s):\n",
    "    return \" \".join([i.capitalize() for i in s.split(\" \")])\n",
    "result=solve('chris alan')\n",
    "print(result)\n"
   ]
  },
  {
   "cell_type": "code",
   "execution_count": 9,
   "id": "a1359e84",
   "metadata": {},
   "outputs": [],
   "source": [
    "def solve(s):\n",
    "    l=s.split()\n",
    "    print(l)"
   ]
  },
  {
   "cell_type": "code",
   "execution_count": 10,
   "id": "946e4206",
   "metadata": {},
   "outputs": [
    {
     "name": "stdout",
     "output_type": "stream",
     "text": [
      "['chris', 'alan']\n"
     ]
    }
   ],
   "source": [
    "solve('chris alan')"
   ]
  },
  {
   "cell_type": "code",
   "execution_count": 1,
   "id": "6ff2f2dd",
   "metadata": {},
   "outputs": [
    {
     "name": "stdout",
     "output_type": "stream",
     "text": [
      "12abc\n"
     ]
    }
   ],
   "source": [
    "def solve(s):\n",
    "    return \" \".join([i.capitalize() for i in s.split(\" \")])\n",
    "result=solve('12abc')\n",
    "print(result)\n"
   ]
  },
  {
   "cell_type": "code",
   "execution_count": 4,
   "id": "286253aa",
   "metadata": {},
   "outputs": [
    {
     "name": "stdout",
     "output_type": "stream",
     "text": [
      "1 W 2 R 3g\n"
     ]
    }
   ],
   "source": [
    "def solve(s):\n",
    "    return \" \".join([i.capitalize() for i in s.split(\" \")])\n",
    "result=solve('1 w 2 r 3g')\n",
    "print(result)\n"
   ]
  },
  {
   "cell_type": "code",
   "execution_count": null,
   "id": "0de14305",
   "metadata": {},
   "outputs": [],
   "source": [
    "s=input(\"Enter string: \")\n",
    "def solve(s):\n",
    "#     import pdb\n",
    "#     pdb.set_trace()\n",
    "    return \" \".join([i.capitalize() for i in s.split(\" \")])\n",
    "\n",
    "result=solve(s)\n",
    "print(result)\n"
   ]
  },
  {
   "cell_type": "code",
   "execution_count": 21,
   "id": "e66daf26",
   "metadata": {},
   "outputs": [
    {
     "name": "stdout",
     "output_type": "stream",
     "text": [
      "['chris', 'alan']\n",
      "chris\n",
      "Chris\n",
      "Chris ['C', 'h', 'r', 'i', 's']\n",
      "alan\n",
      "Alan\n",
      "Alan ['A', 'l', 'a', 'n']\n"
     ]
    }
   ],
   "source": [
    "s='chris alan'\n",
    "r=s.split(\" \")\n",
    "print(r)\n",
    "for j in r:\n",
    "    print(j)\n",
    "    print(j.capitalize())\n",
    "    x=\"\".join(j.capitalize())\n",
    "    print(x,end=\" \")\n",
    "    x=list(x)\n",
    "    print(x)"
   ]
  },
  {
   "cell_type": "code",
   "execution_count": 10,
   "id": "95c4ecd5",
   "metadata": {},
   "outputs": [
    {
     "name": "stdout",
     "output_type": "stream",
     "text": [
      "['c']\n",
      "['h']\n",
      "['r']\n",
      "['i']\n",
      "['s']\n",
      "['', '']\n",
      "['a']\n",
      "['l']\n",
      "['a']\n",
      "['n']\n"
     ]
    }
   ],
   "source": [
    "for i in s:\n",
    "    d=i.split(' ')\n",
    "    print(d)"
   ]
  },
  {
   "cell_type": "code",
   "execution_count": null,
   "id": "43ec5e5c",
   "metadata": {},
   "outputs": [],
   "source": []
  }
 ],
 "metadata": {
  "kernelspec": {
   "display_name": "Python 3",
   "language": "python",
   "name": "python3"
  },
  "language_info": {
   "codemirror_mode": {
    "name": "ipython",
    "version": 3
   },
   "file_extension": ".py",
   "mimetype": "text/x-python",
   "name": "python",
   "nbconvert_exporter": "python",
   "pygments_lexer": "ipython3",
   "version": "3.8.8"
  }
 },
 "nbformat": 4,
 "nbformat_minor": 5
}
